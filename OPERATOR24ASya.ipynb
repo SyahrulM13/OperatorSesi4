{
 "cells": [
  {
   "cell_type": "markdown",
   "id": "e351c6e3",
   "metadata": {},
   "source": [
    "<h1>OPERATOR ARITMATIKA<h1>"
   ]
  },
  {
   "cell_type": "code",
   "execution_count": 18,
   "id": "bca83e8f",
   "metadata": {},
   "outputs": [
    {
     "name": "stdout",
     "output_type": "stream",
     "text": [
      "Isikan nilai X :6\n",
      "Isikan nilai Y :8\n",
      "Penjumlahan  6 + 8 = 14\n",
      "Pengurangan  6 - 8 = -2\n",
      "Perkalian  6 * 8 = 48\n",
      "Pembagian  6 / 8 = 0.75\n",
      "SisaBagi  6 % 8 = 6\n",
      "Pangkat  6 ^ 8 = 1679616\n",
      "Pembagian Bulat  6 // 8 = 0\n"
     ]
    }
   ],
   "source": [
    "x = int (input(\"Isikan nilai X :\"))\n",
    "y = int (input(\"Isikan nilai Y :\"))\n",
    "\n",
    "hasilTambah = x + y\n",
    "hasilKurang = x - y\n",
    "hasilKali = x * y\n",
    "hasilBagi = x / y\n",
    "hasilModulus = x % y\n",
    "hasilPangkat = x ** y\n",
    "hasilBagiBulat = x // y\n",
    "\n",
    "print(\"Penjumlahan \", x, \"+\",y, \"=\",hasilTambah)\n",
    "print(\"Pengurangan \", x, \"-\",y, \"=\",hasilKurang)\n",
    "print(\"Perkalian \", x, \"*\",y, \"=\",hasilKali)\n",
    "print(\"Pembagian \", x, \"/\",y, \"=\",hasilBagi)\n",
    "print(\"SisaBagi \", x, \"%\",y, \"=\",hasilModulus)\n",
    "print(\"Pangkat \", x, \"^\",y, \"=\",hasilPangkat)\n",
    "print(\"Pembagian Bulat \", x, \"//\",y, \"=\",hasilBagiBulat)"
   ]
  },
  {
   "cell_type": "markdown",
   "id": "d5f02f29",
   "metadata": {},
   "source": [
    "<h1>Operator Penugasan<h1>"
   ]
  },
  {
   "cell_type": "code",
   "execution_count": 19,
   "id": "1cfe0ac4",
   "metadata": {},
   "outputs": [
    {
     "name": "stdout",
     "output_type": "stream",
     "text": [
      "Isikan Nilai :10\n",
      "Nilai awal dari <nilai> : 10\n",
      "Nilai setelah ditambahkan 3: 13\n",
      "Nilai setelah dikurangkan 5: 8\n",
      "Nilai setelah dikalikan 10: 80\n",
      "Nilai setelah dibagi 2: 40.0\n"
     ]
    }
   ],
   "source": [
    "nilai = int(input(\"Isikan Nilai :\"))\n",
    "print(\"Nilai awal dari <nilai> :\",nilai)\n",
    "nilai+=3\n",
    "print(\"Nilai setelah ditambahkan 3:\",nilai)\n",
    "nilai-=5\n",
    "print(\"Nilai setelah dikurangkan 5:\",nilai)\n",
    "nilai*=10\n",
    "print(\"Nilai setelah dikalikan 10:\",nilai)\n",
    "nilai/=2\n",
    "print(\"Nilai setelah dibagi 2:\",nilai)"
   ]
  },
  {
   "cell_type": "markdown",
   "id": "70ec0087",
   "metadata": {},
   "source": [
    "<h1>Operator Perbandingan<h1>"
   ]
  },
  {
   "cell_type": "code",
   "execution_count": 26,
   "id": "514d9044",
   "metadata": {},
   "outputs": [
    {
     "name": "stdout",
     "output_type": "stream",
     "text": [
      "isikan Nilai 1:6\n",
      "Isikan Nilai 2:6\n",
      "Apakah  6 = 6 ? : True\n",
      "Apakah  6 != 6 ? : False\n",
      "Apakah  6 > 6 ? : False\n",
      "Apakah  6 >= 6 ? : True\n",
      "Apakah  6 < 6 ? : False\n",
      "Apakah  6 <= 6 ? : True\n"
     ]
    }
   ],
   "source": [
    "val1 = int(input(\"isikan Nilai 1:\"))\n",
    "val2 = int(input(\"Isikan Nilai 2:\"))\n",
    "\n",
    "print(\"Apakah \",val1,\"=\",val2,\"? :\",val1==val2)\n",
    "print(\"Apakah \",val1,\"!=\",val2,\"? :\",val1!=val2)\n",
    "print(\"Apakah \",val1,\">\",val2,\"? :\",val1>val2)\n",
    "print(\"Apakah \",val1,\">=\",val2,\"? :\",val1>=val2)\n",
    "print(\"Apakah \",val1,\"<\",val2,\"? :\",val1<val2)\n",
    "print(\"Apakah \",val1,\"<=\",val2,\"? :\",val1<=val2)"
   ]
  },
  {
   "cell_type": "markdown",
   "id": "eb13c795",
   "metadata": {},
   "source": [
    "<h1>Operator Logika<h1>"
   ]
  },
  {
   "cell_type": "code",
   "execution_count": 32,
   "id": "00c972d1",
   "metadata": {},
   "outputs": [
    {
     "name": "stdout",
     "output_type": "stream",
     "text": [
      "Isikan Nilai a:4\n",
      "Isikan Nilai b:3\n",
      "Isikan Nilai c:6\n",
      "Isikan Nilai d:7\n",
      "Nilai a: 4\n",
      "Nilai b: 3\n",
      "Nilai c: 6\n",
      "Nilai d: 7\n",
      "Apakah a > b dan c < d? True\n",
      "Apakah a > b dan c < d? True\n",
      "Apakah a > b dan c < d? False\n"
     ]
    }
   ],
   "source": [
    "a = int(input(\"Isikan Nilai a:\"))\n",
    "b = int(input(\"Isikan Nilai b:\"))\n",
    "c = int(input(\"Isikan Nilai c:\"))\n",
    "d = int(input(\"Isikan Nilai d:\"))\n",
    "print(\"Nilai a:\", a)\n",
    "print(\"Nilai b:\", b)\n",
    "print(\"Nilai c:\", c)\n",
    "print(\"Nilai d:\", d)\n",
    "\n",
    "print(\"Apakah a > b dan c < d?\", a > b and c < d) #Logika and\n",
    "print(\"Apakah a > b dan c < d?\", a > b or c < d) #Logika or\n",
    "print(\"Apakah a > b dan c < d?\", not (a > b and c < d)) #Logika not and"
   ]
  },
  {
   "cell_type": "markdown",
   "id": "f1dd59e8",
   "metadata": {},
   "source": [
    "<h1>Operator Identitas<h2>"
   ]
  },
  {
   "cell_type": "code",
   "execution_count": 36,
   "id": "caa85edc",
   "metadata": {},
   "outputs": [
    {
     "name": "stdout",
     "output_type": "stream",
     "text": [
      "Memori address dari num1 1498781936208\n",
      "Memori address dari num2 1498781936208\n",
      "Memori address dari num3 1498781936208\n",
      "Apakah num1 adalah num2 True\n",
      "Apakah num2 adalah num3 True\n",
      "Apakah num2 bukan num3 False\n"
     ]
    }
   ],
   "source": [
    "num1 = 10\n",
    "num2 = 10\n",
    "num3 = num2\n",
    "\n",
    "print(\"Memori address dari num1\",id(num1))\n",
    "print(\"Memori address dari num2\",id(num2))\n",
    "print(\"Memori address dari num3\",id(num3))\n",
    "\n",
    "print(\"Apakah num1 adalah num2\", num1 is num2)\n",
    "print(\"Apakah num2 adalah num3\", num2 is num3)\n",
    "print(\"Apakah num2 bukan num3\", num2 is not num3)"
   ]
  },
  {
   "cell_type": "markdown",
   "id": "14c2161e",
   "metadata": {},
   "source": [
    "<h1>Operator Keanggotaan (Membership)<h1>"
   ]
  },
  {
   "cell_type": "code",
   "execution_count": 41,
   "id": "0db58364",
   "metadata": {},
   "outputs": [
    {
     "name": "stdout",
     "output_type": "stream",
     "text": [
      "Isikan nama yang dicari :Arul\n",
      "True\n",
      "False\n",
      "False\n",
      "True\n"
     ]
    }
   ],
   "source": [
    "nama = input(\"Isikan nama yang dicari :\")\n",
    "listNama = [\"Messi\",\"Arul\",\"Ronaldo\",\"Erik\",\"Tohir\"]\n",
    "print(nama in listNama)\n",
    "print(nama in listNama [0])\n",
    "print(nama not in listNama)\n",
    "print(nama not in listNama [0])"
   ]
  },
  {
   "cell_type": "markdown",
   "id": "731c064a",
   "metadata": {},
   "source": [
    "<h1>Operator Bitwise<h1>"
   ]
  },
  {
   "cell_type": "code",
   "execution_count": 45,
   "id": "1fd93feb",
   "metadata": {},
   "outputs": [
    {
     "name": "stdout",
     "output_type": "stream",
     "text": [
      "Isikan bilangan 1:6\n",
      "Isikan bilangan 2:5\n",
      "Biner dari 6 : 0b110\n",
      "Biner dari 5 : 0b101\n",
      "0b110\n",
      "0b101\n",
      "----------------&\n",
      "0b100\n",
      "Hasil desimal nya adalah: 4\n",
      "0b110\n",
      "0b101\n",
      "----------------|\n",
      "0b111\n",
      "Hasil desimal nya adalah: 7\n",
      "0b110\n",
      "0b101\n",
      "----------------^\n",
      "0b11\n",
      "Hasil desimal nya adalah: 3\n",
      "0b110 Digeser ke kiri sebanyak 5 bit\n",
      "Hasilnya adalah 0b11000000\n",
      "Nilai desimalnya adalah 192\n",
      "0b110 Digeser ke kanan sebanyak 5 bit\n",
      "Hasilnya adalah 0b0\n",
      "Nilai desimalnya adalah 0\n"
     ]
    }
   ],
   "source": [
    "bil1 = int(input(\"Isikan bilangan 1:\"))\n",
    "bil2 = int(input(\"Isikan bilangan 2:\"))\n",
    "\n",
    "print(\"Biner dari\", bil1,\":\",bin(bil1))\n",
    "print(\"Biner dari\", bil2,\":\",bin(bil2))\n",
    "\n",
    "#Bitwise &\n",
    "bitwiseAnd = bil1 & bil2\n",
    "print(bin(bil1))\n",
    "print(bin(bil2))\n",
    "print(\"----------------&\")\n",
    "print(bin(bitwiseAnd))\n",
    "print(\"Hasil desimal nya adalah:\", bitwiseAnd)\n",
    "\n",
    "#Bitwise |\n",
    "bitwiseOr = bil1 | bil2\n",
    "print(bin(bil1))\n",
    "print(bin(bil2))\n",
    "print(\"----------------|\")\n",
    "print(bin(bitwiseOr))\n",
    "print(\"Hasil desimal nya adalah:\", bitwiseOr)\n",
    "\n",
    "#Bitwise ^\n",
    "bitwiseXOR = bil1 ^ bil2\n",
    "print(bin(bil1))\n",
    "print(bin(bil2))\n",
    "print(\"----------------^\")\n",
    "print(bin(bitwiseXOR))\n",
    "print(\"Hasil desimal nya adalah:\", bitwiseXOR)\n",
    "\n",
    "#Bitwise << shift left\n",
    "bitwiseSL = bil1 << bil2\n",
    "print(bin(bil1),\"Digeser ke kiri sebanyak\",bil2,\"bit\")\n",
    "print(\"Hasilnya adalah\", bin(bitwiseSL))\n",
    "print(\"Nilai desimalnya adalah\", bitwiseSL)\n",
    "\n",
    "#Bitwise >> shift right\n",
    "bitwiseSR = bil1 >> bil2\n",
    "print(bin(bil1),\"Digeser ke kanan sebanyak\",bil2,\"bit\")\n",
    "print(\"Hasilnya adalah\", bin(bitwiseSR))\n",
    "print(\"Nilai desimalnya adalah\", bitwiseSR)"
   ]
  },
  {
   "cell_type": "markdown",
   "id": "7db18820",
   "metadata": {},
   "source": [
    "<h1>Operator Ternary<h1>"
   ]
  },
  {
   "cell_type": "code",
   "execution_count": 51,
   "id": "1677feae",
   "metadata": {},
   "outputs": [
    {
     "name": "stdout",
     "output_type": "stream",
     "text": [
      "Insert your number:4\n",
      "Bilangan Genap\n"
     ]
    }
   ],
   "source": [
    "number = int(input(\"Insert your number:\"))\n",
    "oddEven = \"Bilangan Genap\" if number % 2==0 else \"Bilangan Ganjil\"\n",
    "print(oddEven)"
   ]
  },
  {
   "cell_type": "markdown",
   "id": "0085a161",
   "metadata": {},
   "source": [
    "<h1>Tugas<h1>\n"
   ]
  },
  {
   "cell_type": "code",
   "execution_count": 62,
   "id": "56af9d99",
   "metadata": {},
   "outputs": [
    {
     "name": "stdout",
     "output_type": "stream",
     "text": [
      "Isikan jumlah pisang yang dibeli: 0\n",
      "Isikan jumlah kolak yang dibeli: 1\n",
      "Isikan jumlah nasi padang yang dibeli: 1\n",
      "Isikan jumlah es buah yang dibeli: 0\n",
      "Pisang 0 = 0\n",
      "Kolak 1 = 5000\n",
      "Nasi Padang 1 = 20000\n",
      "Es Buah 0 = 0\n",
      "totalBelanja : 25000\n",
      "Discount : 0 %\n",
      "Total Bayar: 25000.0\n"
     ]
    }
   ],
   "source": [
    "pisangGoreng = int(input(\"Isikan jumlah pisang yang dibeli: \"))\n",
    "kolak = int(input(\"Isikan jumlah kolak yang dibeli: \"))\n",
    "nasiPadang = int(input(\"Isikan jumlah nasi padang yang dibeli: \"))\n",
    "esBuah = int(input(\"Isikan jumlah es buah yang dibeli: \"))\n",
    "\n",
    "print(\"Pisang\",pisangGoreng,\"=\",pisangGoreng * 13000)\n",
    "print(\"Kolak\",kolak,\"=\",kolak * 5000)\n",
    "print(\"Nasi Padang\",nasiPadang,\"=\",nasiPadang * 20000)\n",
    "print(\"Es Buah\",esBuah,\"=\",esBuah * 10000)\n",
    "totalBelanja = (pisangGoreng * 13000) + (kolak * 5000) + (nasiPadang * 20000) + (esBuah * 10000)\n",
    "print(\"totalBelanja :\",totalBelanja)\n",
    "discount = 5 if totalBelanja > 25000 else 0\n",
    "totalBayar = totalBelanja - (totalBelanja * discount/100)\n",
    "print(\"Discount :\",discount, \"%\")\n",
    "print(\"Total Bayar:\",totalBayar)"
   ]
  },
  {
   "cell_type": "code",
   "execution_count": null,
   "id": "c7bf46e4",
   "metadata": {},
   "outputs": [],
   "source": []
  }
 ],
 "metadata": {
  "kernelspec": {
   "display_name": "Python 3 (ipykernel)",
   "language": "python",
   "name": "python3"
  },
  "language_info": {
   "codemirror_mode": {
    "name": "ipython",
    "version": 3
   },
   "file_extension": ".py",
   "mimetype": "text/x-python",
   "name": "python",
   "nbconvert_exporter": "python",
   "pygments_lexer": "ipython3",
   "version": "3.9.12"
  }
 },
 "nbformat": 4,
 "nbformat_minor": 5
}
